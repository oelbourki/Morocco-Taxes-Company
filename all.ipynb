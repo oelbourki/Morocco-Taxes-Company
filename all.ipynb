{
 "cells": [
  {
   "cell_type": "code",
   "execution_count": 76,
   "metadata": {},
   "outputs": [],
   "source": [
    "from salary_calculator import *\n",
    "from company_taxes import *"
   ]
  },
  {
   "cell_type": "code",
   "execution_count": 133,
   "metadata": {},
   "outputs": [],
   "source": [
    "monthly_income = 60000\n",
    "taxable_salary = 5000\n",
    "non_taxable_bonus = 3500\n",
    "company_monthly_expenses = 3000\n",
    "total_income = monthly_income * 12\n",
    "extra_prof_expenses = 750\n",
    "extra_compnay_expenses = 12654\n"
   ]
  },
  {
   "cell_type": "code",
   "execution_count": 134,
   "metadata": {},
   "outputs": [
    {
     "name": "stdout",
     "output_type": "stream",
     "text": [
      "Part Salariel: 336.99999999999994, Part Patronale: 1054.4999999999998, Total: 1391.4999999999998\n"
     ]
    }
   ],
   "source": [
    "cnss_employee = calculate_cnss_employee(taxable_salary)\n",
    "cnss_employer = calculate_cnss_employer(taxable_salary)\n",
    "print(f\"Part Salariel: {cnss_employee}, Part Patronale: {cnss_employer}, Total: {cnss_employer+cnss_employee}\")"
   ]
  },
  {
   "cell_type": "code",
   "execution_count": 135,
   "metadata": {},
   "outputs": [
    {
     "name": "stdout",
     "output_type": "stream",
     "text": [
      "1750.0\n"
     ]
    }
   ],
   "source": [
    "prof_expenses = calculate_professional_expenses(taxable_salary) + extra_prof_expenses\n",
    "print(prof_expenses)"
   ]
  },
  {
   "cell_type": "code",
   "execution_count": 136,
   "metadata": {},
   "outputs": [
    {
     "data": {
      "text/plain": [
       "41.30000000000001"
      ]
     },
     "execution_count": 136,
     "metadata": {},
     "output_type": "execute_result"
    }
   ],
   "source": [
    "ir_base = taxable_salary - cnss_employee - prof_expenses\n",
    "ir = calculate_ir(ir_base)\n",
    "ir"
   ]
  },
  {
   "cell_type": "code",
   "execution_count": 137,
   "metadata": {},
   "outputs": [
    {
     "name": "stdout",
     "output_type": "stream",
     "text": [
      "Salary without bonus: 4621.7, Salary with bonus: 8121.7\n"
     ]
    }
   ],
   "source": [
    "salary_without_bonus = taxable_salary - ir - cnss_employee\n",
    "salary_with_bonus = salary_without_bonus + non_taxable_bonus\n",
    "output_string = f\"Salary without bonus: {salary_without_bonus}, Salary with bonus: {salary_with_bonus}\"\n",
    "print(output_string)"
   ]
  },
  {
   "cell_type": "code",
   "execution_count": 138,
   "metadata": {},
   "outputs": [
    {
     "name": "stdout",
     "output_type": "stream",
     "text": [
      "1432.7999999999997\n"
     ]
    }
   ],
   "source": [
    "total_monthly_expenses = cnss_employee + cnss_employer + ir\n",
    "print(total_monthly_expenses)"
   ]
  },
  {
   "cell_type": "code",
   "execution_count": 139,
   "metadata": {},
   "outputs": [
    {
     "name": "stdout",
     "output_type": "stream",
     "text": [
      "138000\n"
     ]
    }
   ],
   "source": [
    "year_salary = (taxable_salary + non_taxable_bonus + company_monthly_expenses) * 12\n",
    "print(year_salary)"
   ]
  },
  {
   "cell_type": "code",
   "execution_count": 140,
   "metadata": {},
   "outputs": [
    {
     "name": "stdout",
     "output_type": "stream",
     "text": [
      "150654\n"
     ]
    }
   ],
   "source": [
    "total_expenses = (year_salary + extra_compnay_expenses)\n",
    "print(total_expenses)"
   ]
  },
  {
   "cell_type": "code",
   "execution_count": 141,
   "metadata": {},
   "outputs": [
    {
     "data": {
      "text/plain": [
       "569346"
      ]
     },
     "execution_count": 141,
     "metadata": {},
     "output_type": "execute_result"
    }
   ],
   "source": [
    "profit =  total_income - total_expenses\n",
    "profit"
   ]
  },
  {
   "cell_type": "code",
   "execution_count": 142,
   "metadata": {},
   "outputs": [
    {
     "data": {
      "text/plain": [
       "113869.20000000001"
      ]
     },
     "execution_count": 142,
     "metadata": {},
     "output_type": "execute_result"
    }
   ],
   "source": [
    "IS =calculate_is(profit, year=2023)\n",
    "IS"
   ]
  },
  {
   "cell_type": "code",
   "execution_count": 143,
   "metadata": {},
   "outputs": [],
   "source": [
    "dividen = profit - IS"
   ]
  },
  {
   "cell_type": "code",
   "execution_count": 144,
   "metadata": {},
   "outputs": [
    {
     "data": {
      "text/plain": [
       "62628.060000000005"
      ]
     },
     "execution_count": 144,
     "metadata": {},
     "output_type": "execute_result"
    }
   ],
   "source": [
    "ID =calculate_id(dividen, year=2023)\n",
    "ID"
   ]
  },
  {
   "cell_type": "code",
   "execution_count": 145,
   "metadata": {},
   "outputs": [
    {
     "data": {
      "text/plain": [
       "36000"
      ]
     },
     "execution_count": 145,
     "metadata": {},
     "output_type": "execute_result"
    }
   ],
   "source": [
    "other_expenses = company_monthly_expenses * 12\n",
    "other_expenses"
   ]
  },
  {
   "cell_type": "code",
   "execution_count": 146,
   "metadata": {},
   "outputs": [
    {
     "data": {
      "text/plain": [
       "193690.86000000002"
      ]
     },
     "execution_count": 146,
     "metadata": {},
     "output_type": "execute_result"
    }
   ],
   "source": [
    "taxes_summary = ID + IS + total_monthly_expenses * 12\n",
    "taxes_summary"
   ]
  },
  {
   "cell_type": "code",
   "execution_count": 147,
   "metadata": {},
   "outputs": [
    {
     "data": {
      "text/plain": [
       "392848.74"
      ]
     },
     "execution_count": 147,
     "metadata": {},
     "output_type": "execute_result"
    }
   ],
   "source": [
    "profit_after_fiscal_year = profit - ID - IS\n",
    "profit_after_fiscal_year"
   ]
  },
  {
   "cell_type": "code",
   "execution_count": 148,
   "metadata": {},
   "outputs": [
    {
     "data": {
      "text/plain": [
       "490309.14"
      ]
     },
     "execution_count": 148,
     "metadata": {},
     "output_type": "execute_result"
    }
   ],
   "source": [
    "total_profit = profit_after_fiscal_year + salary_with_bonus * 12\n",
    "total_profit"
   ]
  },
  {
   "cell_type": "code",
   "execution_count": 149,
   "metadata": {},
   "outputs": [
    {
     "data": {
      "text/plain": [
       "720000"
      ]
     },
     "execution_count": 149,
     "metadata": {},
     "output_type": "execute_result"
    }
   ],
   "source": [
    "total_income"
   ]
  },
  {
   "cell_type": "code",
   "execution_count": 150,
   "metadata": {},
   "outputs": [
    {
     "data": {
      "text/plain": [
       "507502.74"
      ]
     },
     "execution_count": 150,
     "metadata": {},
     "output_type": "execute_result"
    }
   ],
   "source": [
    "real_total_profit = total_profit + total_monthly_expenses * 12\n",
    "real_total_profit"
   ]
  },
  {
   "cell_type": "code",
   "execution_count": null,
   "metadata": {},
   "outputs": [],
   "source": [
    "print(\"\")"
   ]
  },
  {
   "cell_type": "code",
   "execution_count": null,
   "metadata": {},
   "outputs": [],
   "source": []
  }
 ],
 "metadata": {
  "kernelspec": {
   "display_name": "ml",
   "language": "python",
   "name": "python3"
  },
  "language_info": {
   "codemirror_mode": {
    "name": "ipython",
    "version": 3
   },
   "file_extension": ".py",
   "mimetype": "text/x-python",
   "name": "python",
   "nbconvert_exporter": "python",
   "pygments_lexer": "ipython3",
   "version": "3.12.4"
  }
 },
 "nbformat": 4,
 "nbformat_minor": 2
}
